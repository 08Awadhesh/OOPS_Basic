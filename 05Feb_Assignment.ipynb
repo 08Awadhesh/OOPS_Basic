{
 "cells": [
  {
   "cell_type": "markdown",
   "id": "4b36b210-4f40-47d5-a3fe-d6526d741bf0",
   "metadata": {},
   "source": [
    "**Q1**. Explain Class and Object with respect to Object-Oriented Programming. Give a suitable example. \n",
    "\n",
    "**Answer**:\n",
    "**Object-Oriented Programming: Classes and Objects**\n",
    "\n",
    "In Object-Oriented Programming (OOP), a class is a blueprint for creating objects, and an object is an instance of a class. A class defines a set of attributes (data) and methods (functions) that are shared by all objects created from that class.\n",
    "\n",
    "**Class:**\n",
    "A class is a template that defines the structure and behavior of objects. It encapsulates both data (attributes) and functions (methods) that operate on the data. It serves as a blueprint for creating objects with specific characteristics.\n",
    "\n",
    "**Object:**\n",
    "An object is a specific instance of a class. It contains its own unique data and can perform actions defined by the methods of its class. Objects are created from a class and can interact with each other by calling methods and accessing attributes.\n",
    "\n",
    "### Example: Creating a Class and Objects in Python\n",
    "\n",
    "Let's consider a simple example of a `Car` class to illustrate the concepts of classes and objects in Python.\n",
    "\n",
    "```python\n",
    "class Car:\n",
    "    def __init__(self, make, model, year):\n",
    "        self.make = make\n",
    "        self.model = model\n",
    "        self.year = year\n",
    "        self.is_running = False\n",
    "    \n",
    "    def start(self):\n",
    "        self.is_running = True\n",
    "        print(f\"{self.year} {self.make} {self.model} is now running.\")\n",
    "    \n",
    "    def stop(self):\n",
    "        self.is_running = False\n",
    "        print(f\"{self.year} {self.make} {self.model} has stopped.\")\n",
    "\n",
    "# Creating objects (instances) of the Car class\n",
    "car1 = Car(\"Toyota\", \"Camry\", 2023)\n",
    "car2 = Car(\"Ford\", \"Mustang\", 2022)\n",
    "\n",
    "# Using the methods of the objects\n",
    "car1.start()\n",
    "car2.start()\n",
    "car1.stop()\n"
   ]
  },
  {
   "cell_type": "markdown",
   "id": "3dc2dfd2-0bb9-4e96-bd17-12fb421ef6f1",
   "metadata": {},
   "source": [
    "**Q2**. Name the four pillars of OOPs.\n",
    "\n",
    "**Answer**:\n",
    "\n",
    "**The Four Pillars of Object-Oriented Programming (OOP)**\n",
    "\n",
    "Object-Oriented Programming (OOP) is a programming paradigm that emphasizes the use of objects, classes, and their interactions. OOP is built on four fundamental concepts known as the \"Four Pillars of OOP.\" These pillars provide a structured approach to designing and organizing code.\n",
    "\n",
    "**1. Encapsulation:**\n",
    "Encapsulation refers to the bundling of data (attributes) and the methods (functions) that operate on the data into a single unit called a class. It hides the internal implementation details of a class and exposes only necessary interfaces. This helps in controlling access to the data and preventing unauthorized modifications.\n",
    "\n",
    "**2. Abstraction:**\n",
    "Abstraction involves simplifying complex reality by modeling classes based on their essential properties and behaviors. It focuses on what an object does rather than how it does it. Abstraction allows developers to create classes that provide a clear and simplified interface, hiding the complex underlying implementation.\n",
    "\n",
    "**3. Inheritance:**\n",
    "Inheritance allows a class (subclass or derived class) to inherit properties and behaviors from another class (base class or parent class). It promotes code reusability by allowing the creation of new classes based on existing ones. The subclass can extend or override the properties and behaviors inherited from the parent class.\n",
    "\n",
    "**4. Polymorphism:**\n",
    "Polymorphism enables objects of different classes to be treated as objects of a common base class. It allows the same method to have different implementations in different classes. This concept simplifies code by allowing objects to be used interchangeably, promoting flexibility and adaptability in program design.\n",
    "\n",
    "**Example of OOP Pillars in Python**\n",
    "\n",
    "Let's consider the example of a hierarchy of geometric shapes to illustrate the four pillars of OOP.\n",
    "\n",
    "```python\n",
    "class Shape:\n",
    "    def area(self):\n",
    "        pass\n",
    "\n",
    "class Circle(Shape):\n",
    "    def __init__(self, radius):\n",
    "        self.radius = radius\n",
    "    \n",
    "    def area(self):\n",
    "        return 3.14159 * self.radius ** 2\n",
    "\n",
    "class Rectangle(Shape):\n",
    "    def __init__(self, width, height):\n",
    "        self.width = width\n",
    "        self.height = height\n",
    "    \n",
    "    def area(self):\n",
    "        return self.width * self.height\n",
    "\n",
    "circle = Circle(5)\n",
    "rectangle = Rectangle(4, 6)\n",
    "\n",
    "shapes = [circle, rectangle]\n",
    "for shape in shapes:\n",
    "    print(f\"Area of shape: {shape.area()}\")\n"
   ]
  },
  {
   "cell_type": "markdown",
   "id": "c1a26bbd-cba3-4c83-a1ac-284295808b47",
   "metadata": {},
   "source": [
    "**Q3**. Explain why the __init__() function is used. Give a suitable example.\n",
    "\n",
    "**Answer**:\n",
    "    \n",
    "\n",
    "In object-oriented programming, the `__init__()` function serves as the constructor for a class. It is a special method that is automatically called when an object is created from the class. The purpose of the `__init__()` function is to initialize the attributes of the object and set its initial state.\n",
    "\n",
    "### Example: Using the `__init__()` Function in Python\n",
    "\n",
    "Let's consider a `Person` class to illustrate the use of the `__init__()` function.\n",
    "\n",
    "```python\n",
    "class Person:\n",
    "    def __init__(self, name, age):\n",
    "        self.name = name\n",
    "        self.age = age\n",
    "    \n",
    "    def introduce(self):\n",
    "        print(f\"Hi, I'm {self.name}, and I'm {self.age} years old.\")\n",
    "\n",
    "# Creating instances of the Person class\n",
    "person1 = Person(\"Alice\", 30)\n",
    "person2 = Person(\"Bob\", 25)\n",
    "\n",
    "# Calling the introduce method\n",
    "person1.introduce()\n",
    "person2.introduce()\n"
   ]
  },
  {
   "cell_type": "markdown",
   "id": "be1c8fc4-568c-4371-8e71-c0fd6af5bae9",
   "metadata": {},
   "source": [
    "**Q4**. Why self is used in OOPs?\n",
    "\n",
    "**Answer**: **The Use of `self` in Object-Oriented Programming (OOP)**\n",
    "\n",
    "In object-oriented programming (OOP), `self` is a convention used to refer to the instance of the class within its methods. It acts as a reference to the specific object being manipulated or accessed. The `self` parameter allows methods to access and modify the attributes and behaviors of the object to which they belong.\n",
    "\n",
    "**The Purpose of `self`**\n",
    "\n",
    "When defining methods within a class, it's important to have a way to differentiate between attributes and methods of the class and those of individual objects. This is where `self` comes into play. By using `self` as the first parameter in a method, you're indicating that the method should work with the specific instance of the class that it's being called on.\n",
    "\n",
    "**Example: Understanding `self` in Python**\n",
    "\n",
    "Let's use the `Person` class from a previous example to understand the use of `self`.\n",
    "\n",
    "```python\n",
    "class Person:\n",
    "    def __init__(self, name, age):\n",
    "        self.name = name\n",
    "        self.age = age\n",
    "    \n",
    "    def introduce(self):\n",
    "        print(f\"Hi, I'm {self.name}, and I'm {self.age} years old.\")\n",
    "\n",
    "# Creating an instance of the Person class\n",
    "person1 = Person(\"Alice\", 30)\n",
    "\n",
    "# Calling the introduce method\n",
    "person1.introduce()\n"
   ]
  },
  {
   "cell_type": "markdown",
   "id": "8509eac6-b1b9-4f21-ae16-5fc3e898be35",
   "metadata": {},
   "source": [
    "**Q5**. What is inheritance? Give an example for each type of inheritance.\n",
    "\n",
    "**Answer**:\n",
    "**Inheritance in Object-Oriented Programming (OOP)**\n",
    "\n",
    "Inheritance is a fundamental concept in object-oriented programming (OOP) that allows a new class (subclass or derived class) to inherit properties and behaviors from an existing class (base class or parent class). Inheritance promotes code reusability, extensibility, and the creation of a hierarchy of related classes.\n",
    "\n",
    "**Types of Inheritance**\n",
    "\n",
    "There are several types of inheritance, each serving a specific purpose in class hierarchy:\n",
    "\n",
    "**1. Single Inheritance:**\n",
    "Single inheritance involves one subclass inheriting from a single base class. The subclass inherits all the attributes and methods of the base class.\n",
    "\n",
    "**Example:**\n",
    "\n",
    "  \n",
    "    "
   ]
  },
  {
   "cell_type": "code",
   "execution_count": 2,
   "id": "833cc147-8a02-4040-b26a-33ee819315c8",
   "metadata": {},
   "outputs": [
    {
     "name": "stdout",
     "output_type": "stream",
     "text": [
      "Driving a vehicle\n",
      "Parking the car\n"
     ]
    }
   ],
   "source": [
    "\n",
    "class Vehicle:\n",
    "    def drive(self):\n",
    "        print(\"Driving a vehicle\")\n",
    "\n",
    "class Car(Vehicle):\n",
    "    def park(self):\n",
    "        print(\"Parking the car\")\n",
    "\n",
    "car = Car()\n",
    "car.drive()  # Inherits from Vehicle class\n",
    "car.park()   # Method specific to Car class"
   ]
  },
  {
   "cell_type": "markdown",
   "id": "0e7a4d10-9dfc-406b-b0a3-dcf71205f6e7",
   "metadata": {},
   "source": [
    "**2. Multiple Inheritance:**\n",
    "Multiple inheritance involves a subclass inheriting from more than one base class. The subclass inherits attributes and methods from all the base classes.\n",
    "\n",
    "Example:"
   ]
  },
  {
   "cell_type": "code",
   "execution_count": 3,
   "id": "b3bb8801-da8a-450b-81f4-823883d551f5",
   "metadata": {},
   "outputs": [
    {
     "name": "stdout",
     "output_type": "stream",
     "text": [
      "Method from Parent1\n",
      "Method from Parent2\n"
     ]
    }
   ],
   "source": [
    "class Parent1:\n",
    "    def method1(self):\n",
    "        print(\"Method from Parent1\")\n",
    "\n",
    "class Parent2:\n",
    "    def method2(self):\n",
    "        print(\"Method from Parent2\")\n",
    "\n",
    "class Child(Parent1, Parent2):\n",
    "    pass\n",
    "\n",
    "child = Child()\n",
    "child.method1()  # Inherits from Parent1\n",
    "child.method2()  # Inherits from Parent2\n"
   ]
  },
  {
   "cell_type": "markdown",
   "id": "7f2e425e-5c01-4aea-b238-0e78b81f423b",
   "metadata": {},
   "source": [
    "**3. Multilevel Inheritance:**\n",
    "Multilevel inheritance involves a chain of inheritance where a subclass inherits from another subclass, forming a hierarchy.\n",
    "\n",
    "**Example:**"
   ]
  },
  {
   "cell_type": "code",
   "execution_count": 4,
   "id": "d90375f1-ddcd-4d33-9902-12fe691ee41c",
   "metadata": {},
   "outputs": [
    {
     "name": "stdout",
     "output_type": "stream",
     "text": [
      "Method from Grandparent\n",
      "Method from Parent\n"
     ]
    }
   ],
   "source": [
    "class Grandparent:\n",
    "    def method1(self):\n",
    "        print(\"Method from Grandparent\")\n",
    "\n",
    "class Parent(Grandparent):\n",
    "    def method2(self):\n",
    "        print(\"Method from Parent\")\n",
    "\n",
    "class Child(Parent):\n",
    "    pass\n",
    "\n",
    "child = Child()\n",
    "child.method1()  # Inherits from Grandparent\n",
    "child.method2()  # Inherits from Parent\n"
   ]
  },
  {
   "cell_type": "markdown",
   "id": "54821fdd-124f-47da-8307-fa33ad560b3c",
   "metadata": {},
   "source": [
    "**4. Hierarchical Inheritance:**\n",
    "Hierarchical inheritance involves multiple subclasses inheriting from a single base class.\n",
    "\n",
    "Example:"
   ]
  },
  {
   "cell_type": "code",
   "execution_count": 5,
   "id": "7086f3d7-16b1-4c2b-89f8-741393b0b2ca",
   "metadata": {},
   "outputs": [
    {
     "name": "stdout",
     "output_type": "stream",
     "text": [
      "Dog barks\n",
      "Cat meows\n"
     ]
    }
   ],
   "source": [
    "class Animal:\n",
    "    def sound(self):\n",
    "        print(\"Animal sound\")\n",
    "\n",
    "class Dog(Animal):\n",
    "    def sound(self):\n",
    "        print(\"Dog barks\")\n",
    "\n",
    "class Cat(Animal):\n",
    "    def sound(self):\n",
    "        print(\"Cat meows\")\n",
    "\n",
    "dog = Dog()\n",
    "cat = Cat()\n",
    "dog.sound()  # Overrides Animal's sound method\n",
    "cat.sound()  # Overrides Animal's sound method\n"
   ]
  },
  {
   "cell_type": "code",
   "execution_count": null,
   "id": "c625c51f-423a-4529-8704-35983b3e6ea7",
   "metadata": {},
   "outputs": [],
   "source": []
  }
 ],
 "metadata": {
  "kernelspec": {
   "display_name": "Python 3 (ipykernel)",
   "language": "python",
   "name": "python3"
  },
  "language_info": {
   "codemirror_mode": {
    "name": "ipython",
    "version": 3
   },
   "file_extension": ".py",
   "mimetype": "text/x-python",
   "name": "python",
   "nbconvert_exporter": "python",
   "pygments_lexer": "ipython3",
   "version": "3.10.8"
  }
 },
 "nbformat": 4,
 "nbformat_minor": 5
}
